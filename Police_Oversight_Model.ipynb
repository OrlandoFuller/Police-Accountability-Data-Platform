{
 "cells": [
  {
   "cell_type": "code",
   "execution_count": 88,
   "metadata": {},
   "outputs": [],
   "source": [
    "# import dependencies\n",
    "import pandas as pd\n",
    "import seaborn as sns"
   ]
  },
  {
   "cell_type": "code",
   "execution_count": 103,
   "metadata": {},
   "outputs": [
    {
     "data": {
      "text/html": [
       "<div>\n",
       "<style scoped>\n",
       "    .dataframe tbody tr th:only-of-type {\n",
       "        vertical-align: middle;\n",
       "    }\n",
       "\n",
       "    .dataframe tbody tr th {\n",
       "        vertical-align: top;\n",
       "    }\n",
       "\n",
       "    .dataframe thead th {\n",
       "        text-align: right;\n",
       "    }\n",
       "</style>\n",
       "<table border=\"1\" class=\"dataframe\">\n",
       "  <thead>\n",
       "    <tr style=\"text-align: right;\">\n",
       "      <th></th>\n",
       "      <th>complaint_id</th>\n",
       "      <th>officer_id</th>\n",
       "      <th>date_received</th>\n",
       "      <th>precinct</th>\n",
       "      <th>complaint_type</th>\n",
       "      <th>resolution</th>\n",
       "      <th>complainant_race</th>\n",
       "      <th>complainant_gender</th>\n",
       "      <th>complainant_age</th>\n",
       "      <th>use_of_force_involved</th>\n",
       "    </tr>\n",
       "  </thead>\n",
       "  <tbody>\n",
       "    <tr>\n",
       "      <th>0</th>\n",
       "      <td>CMP0001</td>\n",
       "      <td>OFF0041</td>\n",
       "      <td>2024-06-08</td>\n",
       "      <td>North</td>\n",
       "      <td>Excessive Force</td>\n",
       "      <td>Unfounded</td>\n",
       "      <td>White</td>\n",
       "      <td>Male</td>\n",
       "      <td>26</td>\n",
       "      <td>True</td>\n",
       "    </tr>\n",
       "    <tr>\n",
       "      <th>1</th>\n",
       "      <td>CMP0002</td>\n",
       "      <td>OFF0044</td>\n",
       "      <td>2024-09-15</td>\n",
       "      <td>Central</td>\n",
       "      <td>Excessive Force</td>\n",
       "      <td>Exonerated</td>\n",
       "      <td>Black</td>\n",
       "      <td>Male</td>\n",
       "      <td>23</td>\n",
       "      <td>True</td>\n",
       "    </tr>\n",
       "    <tr>\n",
       "      <th>2</th>\n",
       "      <td>CMP0003</td>\n",
       "      <td>OFF0015</td>\n",
       "      <td>2023-10-14</td>\n",
       "      <td>Central</td>\n",
       "      <td>Excessive Force</td>\n",
       "      <td>Sustained</td>\n",
       "      <td>Other</td>\n",
       "      <td>Female</td>\n",
       "      <td>32</td>\n",
       "      <td>False</td>\n",
       "    </tr>\n",
       "    <tr>\n",
       "      <th>3</th>\n",
       "      <td>CMP0004</td>\n",
       "      <td>OFF0038</td>\n",
       "      <td>2023-07-27</td>\n",
       "      <td>East</td>\n",
       "      <td>Excessive Force</td>\n",
       "      <td>Sustained</td>\n",
       "      <td>Asian</td>\n",
       "      <td>Female</td>\n",
       "      <td>35</td>\n",
       "      <td>True</td>\n",
       "    </tr>\n",
       "    <tr>\n",
       "      <th>4</th>\n",
       "      <td>CMP0005</td>\n",
       "      <td>OFF0014</td>\n",
       "      <td>2025-01-04</td>\n",
       "      <td>East</td>\n",
       "      <td>Excessive Force</td>\n",
       "      <td>Pending</td>\n",
       "      <td>Asian</td>\n",
       "      <td>Male</td>\n",
       "      <td>40</td>\n",
       "      <td>False</td>\n",
       "    </tr>\n",
       "    <tr>\n",
       "      <th>...</th>\n",
       "      <td>...</td>\n",
       "      <td>...</td>\n",
       "      <td>...</td>\n",
       "      <td>...</td>\n",
       "      <td>...</td>\n",
       "      <td>...</td>\n",
       "      <td>...</td>\n",
       "      <td>...</td>\n",
       "      <td>...</td>\n",
       "      <td>...</td>\n",
       "    </tr>\n",
       "    <tr>\n",
       "      <th>95</th>\n",
       "      <td>CMP0096</td>\n",
       "      <td>OFF0007</td>\n",
       "      <td>2025-02-20</td>\n",
       "      <td>South</td>\n",
       "      <td>Neglect of Duty</td>\n",
       "      <td>Sustained</td>\n",
       "      <td>Hispanic</td>\n",
       "      <td>Male</td>\n",
       "      <td>37</td>\n",
       "      <td>True</td>\n",
       "    </tr>\n",
       "    <tr>\n",
       "      <th>96</th>\n",
       "      <td>CMP0097</td>\n",
       "      <td>OFF0046</td>\n",
       "      <td>2024-06-13</td>\n",
       "      <td>Central</td>\n",
       "      <td>Verbal Abuse</td>\n",
       "      <td>Unfounded</td>\n",
       "      <td>Black</td>\n",
       "      <td>Male</td>\n",
       "      <td>53</td>\n",
       "      <td>False</td>\n",
       "    </tr>\n",
       "    <tr>\n",
       "      <th>97</th>\n",
       "      <td>CMP0098</td>\n",
       "      <td>OFF0045</td>\n",
       "      <td>2024-08-17</td>\n",
       "      <td>South</td>\n",
       "      <td>Racial Profiling</td>\n",
       "      <td>Pending</td>\n",
       "      <td>Black</td>\n",
       "      <td>Non-binary</td>\n",
       "      <td>36</td>\n",
       "      <td>False</td>\n",
       "    </tr>\n",
       "    <tr>\n",
       "      <th>98</th>\n",
       "      <td>CMP0099</td>\n",
       "      <td>OFF0031</td>\n",
       "      <td>2023-09-27</td>\n",
       "      <td>West</td>\n",
       "      <td>Neglect of Duty</td>\n",
       "      <td>Sustained</td>\n",
       "      <td>Black</td>\n",
       "      <td>Female</td>\n",
       "      <td>48</td>\n",
       "      <td>True</td>\n",
       "    </tr>\n",
       "    <tr>\n",
       "      <th>99</th>\n",
       "      <td>CMP0100</td>\n",
       "      <td>OFF0005</td>\n",
       "      <td>2024-09-24</td>\n",
       "      <td>West</td>\n",
       "      <td>Racial Profiling</td>\n",
       "      <td>Pending</td>\n",
       "      <td>Other</td>\n",
       "      <td>Non-binary</td>\n",
       "      <td>61</td>\n",
       "      <td>True</td>\n",
       "    </tr>\n",
       "  </tbody>\n",
       "</table>\n",
       "<p>100 rows × 10 columns</p>\n",
       "</div>"
      ],
      "text/plain": [
       "   complaint_id officer_id date_received precinct    complaint_type  \\\n",
       "0       CMP0001    OFF0041    2024-06-08    North   Excessive Force   \n",
       "1       CMP0002    OFF0044    2024-09-15  Central   Excessive Force   \n",
       "2       CMP0003    OFF0015    2023-10-14  Central   Excessive Force   \n",
       "3       CMP0004    OFF0038    2023-07-27     East   Excessive Force   \n",
       "4       CMP0005    OFF0014    2025-01-04     East   Excessive Force   \n",
       "..          ...        ...           ...      ...               ...   \n",
       "95      CMP0096    OFF0007    2025-02-20    South   Neglect of Duty   \n",
       "96      CMP0097    OFF0046    2024-06-13  Central      Verbal Abuse   \n",
       "97      CMP0098    OFF0045    2024-08-17    South  Racial Profiling   \n",
       "98      CMP0099    OFF0031    2023-09-27     West   Neglect of Duty   \n",
       "99      CMP0100    OFF0005    2024-09-24     West  Racial Profiling   \n",
       "\n",
       "    resolution complainant_race complainant_gender  complainant_age  \\\n",
       "0    Unfounded            White               Male               26   \n",
       "1   Exonerated            Black               Male               23   \n",
       "2    Sustained            Other             Female               32   \n",
       "3    Sustained            Asian             Female               35   \n",
       "4      Pending            Asian               Male               40   \n",
       "..         ...              ...                ...              ...   \n",
       "95   Sustained         Hispanic               Male               37   \n",
       "96   Unfounded            Black               Male               53   \n",
       "97     Pending            Black         Non-binary               36   \n",
       "98   Sustained            Black             Female               48   \n",
       "99     Pending            Other         Non-binary               61   \n",
       "\n",
       "    use_of_force_involved  \n",
       "0                    True  \n",
       "1                    True  \n",
       "2                   False  \n",
       "3                    True  \n",
       "4                   False  \n",
       "..                    ...  \n",
       "95                   True  \n",
       "96                  False  \n",
       "97                  False  \n",
       "98                   True  \n",
       "99                   True  \n",
       "\n",
       "[100 rows x 10 columns]"
      ]
     },
     "execution_count": 103,
     "metadata": {},
     "output_type": "execute_result"
    }
   ],
   "source": [
    "# read in dataset\n",
    "data = pd.read_excel('dataset/police_complaints.xlsx')\n",
    "data"
   ]
  },
  {
   "cell_type": "code",
   "execution_count": 138,
   "metadata": {},
   "outputs": [
    {
     "data": {
      "text/plain": [
       "24"
      ]
     },
     "execution_count": 138,
     "metadata": {},
     "output_type": "execute_result"
    }
   ],
   "source": [
    "data[data['use_of_force_involved'] == True]['complaint_id'].count()\n",
    "data[data['resolution'] == 'Pending']['complaint_id'].count()"
   ]
  },
  {
   "cell_type": "code",
   "execution_count": 3,
   "metadata": {},
   "outputs": [
    {
     "name": "stdout",
     "output_type": "stream",
     "text": [
      "There are 100 complaints on record.\n"
     ]
    }
   ],
   "source": [
    "# How many complaints are on record?\n",
    "print(f\"There are {len(data.complaint_id)} complaints on record.\")"
   ]
  },
  {
   "cell_type": "code",
   "execution_count": 4,
   "metadata": {},
   "outputs": [
    {
     "name": "stdout",
     "output_type": "stream",
     "text": [
      "There are 41 officers with complaints on record.\n"
     ]
    }
   ],
   "source": [
    "# How many officers have complaints?\n",
    "print(f\"There are {len(data.officer_id.unique())} officers with complaints on record.\")"
   ]
  },
  {
   "cell_type": "code",
   "execution_count": 5,
   "metadata": {},
   "outputs": [
    {
     "name": "stdout",
     "output_type": "stream",
     "text": [
      "Officer ID: OFF0041\n",
      "Number of complaints: 4\n",
      "Complaint IDs: ['CMP0001', 'CMP0009', 'CMP0011', 'CMP0019']\n",
      "\n",
      "Officer ID: OFF0044\n",
      "Number of complaints: 4\n",
      "Complaint IDs: ['CMP0002', 'CMP0016', 'CMP0029', 'CMP0059']\n",
      "\n",
      "Officer ID: OFF0015\n",
      "Number of complaints: 3\n",
      "Complaint IDs: ['CMP0003', 'CMP0052', 'CMP0094']\n",
      "\n",
      "Officer ID: OFF0038\n",
      "Number of complaints: 3\n",
      "Complaint IDs: ['CMP0004', 'CMP0025', 'CMP0035']\n",
      "\n",
      "Officer ID: OFF0014\n",
      "Number of complaints: 3\n",
      "Complaint IDs: ['CMP0005', 'CMP0044', 'CMP0060']\n",
      "\n",
      "Officer ID: OFF0039\n",
      "Number of complaints: 3\n",
      "Complaint IDs: ['CMP0006', 'CMP0020', 'CMP0037']\n",
      "\n",
      "Officer ID: OFF0036\n",
      "Number of complaints: 2\n",
      "Complaint IDs: ['CMP0007', 'CMP0017']\n",
      "\n",
      "Officer ID: OFF0050\n",
      "Number of complaints: 4\n",
      "Complaint IDs: ['CMP0008', 'CMP0049', 'CMP0053', 'CMP0081']\n",
      "\n",
      "Officer ID: OFF0045\n",
      "Number of complaints: 3\n",
      "Complaint IDs: ['CMP0010', 'CMP0092', 'CMP0098']\n",
      "\n",
      "Officer ID: OFF0026\n",
      "Number of complaints: 1\n",
      "Complaint IDs: ['CMP0012']\n",
      "\n",
      "Officer ID: OFF0042\n",
      "Number of complaints: 3\n",
      "Complaint IDs: ['CMP0013', 'CMP0079', 'CMP0091']\n",
      "\n",
      "Officer ID: OFF0048\n",
      "Number of complaints: 2\n",
      "Complaint IDs: ['CMP0014', 'CMP0046']\n",
      "\n",
      "Officer ID: OFF0009\n",
      "Number of complaints: 5\n",
      "Complaint IDs: ['CMP0015', 'CMP0022', 'CMP0041', 'CMP0070', 'CMP0075']\n",
      "\n",
      "Officer ID: OFF0011\n",
      "Number of complaints: 1\n",
      "Complaint IDs: ['CMP0018']\n",
      "\n",
      "Officer ID: OFF0004\n",
      "Number of complaints: 3\n",
      "Complaint IDs: ['CMP0021', 'CMP0033', 'CMP0066']\n",
      "\n",
      "Officer ID: OFF0035\n",
      "Number of complaints: 3\n",
      "Complaint IDs: ['CMP0023', 'CMP0042', 'CMP0047']\n",
      "\n",
      "Officer ID: OFF0008\n",
      "Number of complaints: 1\n",
      "Complaint IDs: ['CMP0024']\n",
      "\n",
      "Officer ID: OFF0022\n",
      "Number of complaints: 2\n",
      "Complaint IDs: ['CMP0026', 'CMP0088']\n",
      "\n",
      "Officer ID: OFF0047\n",
      "Number of complaints: 2\n",
      "Complaint IDs: ['CMP0027', 'CMP0055']\n",
      "\n",
      "Officer ID: OFF0007\n",
      "Number of complaints: 4\n",
      "Complaint IDs: ['CMP0028', 'CMP0043', 'CMP0083', 'CMP0096']\n",
      "\n",
      "Officer ID: OFF0013\n",
      "Number of complaints: 2\n",
      "Complaint IDs: ['CMP0030', 'CMP0095']\n",
      "\n",
      "Officer ID: OFF0016\n",
      "Number of complaints: 4\n",
      "Complaint IDs: ['CMP0031', 'CMP0039', 'CMP0063', 'CMP0080']\n",
      "\n",
      "Officer ID: OFF0006\n",
      "Number of complaints: 4\n",
      "Complaint IDs: ['CMP0032', 'CMP0062', 'CMP0076', 'CMP0090']\n",
      "\n",
      "Officer ID: OFF0028\n",
      "Number of complaints: 2\n",
      "Complaint IDs: ['CMP0034', 'CMP0093']\n",
      "\n",
      "Officer ID: OFF0033\n",
      "Number of complaints: 2\n",
      "Complaint IDs: ['CMP0036', 'CMP0061']\n",
      "\n",
      "Officer ID: OFF0040\n",
      "Number of complaints: 3\n",
      "Complaint IDs: ['CMP0038', 'CMP0057', 'CMP0086']\n",
      "\n",
      "Officer ID: OFF0001\n",
      "Number of complaints: 1\n",
      "Complaint IDs: ['CMP0040']\n",
      "\n",
      "Officer ID: OFF0018\n",
      "Number of complaints: 1\n",
      "Complaint IDs: ['CMP0045']\n",
      "\n",
      "Officer ID: OFF0024\n",
      "Number of complaints: 2\n",
      "Complaint IDs: ['CMP0048', 'CMP0085']\n",
      "\n",
      "Officer ID: OFF0002\n",
      "Number of complaints: 1\n",
      "Complaint IDs: ['CMP0050']\n",
      "\n",
      "Officer ID: OFF0025\n",
      "Number of complaints: 2\n",
      "Complaint IDs: ['CMP0051', 'CMP0072']\n",
      "\n",
      "Officer ID: OFF0017\n",
      "Number of complaints: 4\n",
      "Complaint IDs: ['CMP0054', 'CMP0068', 'CMP0078', 'CMP0089']\n",
      "\n",
      "Officer ID: OFF0003\n",
      "Number of complaints: 1\n",
      "Complaint IDs: ['CMP0056']\n",
      "\n",
      "Officer ID: OFF0021\n",
      "Number of complaints: 3\n",
      "Complaint IDs: ['CMP0058', 'CMP0077', 'CMP0087']\n",
      "\n",
      "Officer ID: OFF0046\n",
      "Number of complaints: 3\n",
      "Complaint IDs: ['CMP0064', 'CMP0069', 'CMP0097']\n",
      "\n",
      "Officer ID: OFF0049\n",
      "Number of complaints: 3\n",
      "Complaint IDs: ['CMP0065', 'CMP0067', 'CMP0073']\n",
      "\n",
      "Officer ID: OFF0027\n",
      "Number of complaints: 1\n",
      "Complaint IDs: ['CMP0071']\n",
      "\n",
      "Officer ID: OFF0032\n",
      "Number of complaints: 1\n",
      "Complaint IDs: ['CMP0074']\n",
      "\n",
      "Officer ID: OFF0020\n",
      "Number of complaints: 1\n",
      "Complaint IDs: ['CMP0082']\n",
      "\n",
      "Officer ID: OFF0005\n",
      "Number of complaints: 2\n",
      "Complaint IDs: ['CMP0084', 'CMP0100']\n",
      "\n",
      "Officer ID: OFF0031\n",
      "Number of complaints: 1\n",
      "Complaint IDs: ['CMP0099']\n",
      "\n"
     ]
    }
   ],
   "source": [
    "# List of officers with complaints\n",
    "officers = data.officer_id.unique()\n",
    "for o in officers:\n",
    "    print(f\"Officer ID: {o}\")\n",
    "    officer_data = data[data.officer_id == o]\n",
    "    print(f\"Number of complaints: {len(officer_data)}\")\n",
    "    print(f\"Complaint IDs: {officer_data.complaint_id.tolist()}\")\n",
    "    print()"
   ]
  },
  {
   "cell_type": "code",
   "execution_count": 6,
   "metadata": {},
   "outputs": [
    {
     "name": "stdout",
     "output_type": "stream",
     "text": [
      "Complaints per year:\n",
      "date_received\n",
      "2023-05-20    1\n",
      "2023-06-02    1\n",
      "2023-06-04    1\n",
      "2023-06-12    1\n",
      "2023-06-22    1\n",
      "             ..\n",
      "2025-03-30    1\n",
      "2025-04-14    1\n",
      "2025-04-16    1\n",
      "2025-05-05    1\n",
      "2025-05-12    1\n",
      "Name: complaint_id, Length: 97, dtype: int64\n"
     ]
    }
   ],
   "source": [
    "# Complaints per year\n",
    "complaints_per_year = data.groupby('date_received')['complaint_id'].count()\n",
    "print(\"Complaints per year:\")\n",
    "print(complaints_per_year)\n"
   ]
  },
  {
   "cell_type": "code",
   "execution_count": 7,
   "metadata": {},
   "outputs": [
    {
     "data": {
      "text/html": [
       "<div>\n",
       "<style scoped>\n",
       "    .dataframe tbody tr th:only-of-type {\n",
       "        vertical-align: middle;\n",
       "    }\n",
       "\n",
       "    .dataframe tbody tr th {\n",
       "        vertical-align: top;\n",
       "    }\n",
       "\n",
       "    .dataframe thead th {\n",
       "        text-align: right;\n",
       "    }\n",
       "</style>\n",
       "<table border=\"1\" class=\"dataframe\">\n",
       "  <thead>\n",
       "    <tr style=\"text-align: right;\">\n",
       "      <th></th>\n",
       "      <th>complaint_id</th>\n",
       "      <th>officer_id</th>\n",
       "      <th>date_received</th>\n",
       "      <th>precinct</th>\n",
       "      <th>complaint_type</th>\n",
       "      <th>resolution</th>\n",
       "      <th>complainant_race</th>\n",
       "      <th>complainant_gender</th>\n",
       "      <th>complainant_age</th>\n",
       "      <th>use_of_force_involved</th>\n",
       "      <th>year</th>\n",
       "      <th>month</th>\n",
       "      <th>day_of_week</th>\n",
       "    </tr>\n",
       "  </thead>\n",
       "  <tbody>\n",
       "    <tr>\n",
       "      <th>0</th>\n",
       "      <td>CMP0001</td>\n",
       "      <td>OFF0041</td>\n",
       "      <td>2024-06-08</td>\n",
       "      <td>North</td>\n",
       "      <td>Excessive Force</td>\n",
       "      <td>Unfounded</td>\n",
       "      <td>White</td>\n",
       "      <td>Male</td>\n",
       "      <td>26</td>\n",
       "      <td>True</td>\n",
       "      <td>2024</td>\n",
       "      <td>6</td>\n",
       "      <td>Saturday</td>\n",
       "    </tr>\n",
       "    <tr>\n",
       "      <th>1</th>\n",
       "      <td>CMP0002</td>\n",
       "      <td>OFF0044</td>\n",
       "      <td>2024-09-15</td>\n",
       "      <td>Central</td>\n",
       "      <td>Excessive Force</td>\n",
       "      <td>Exonerated</td>\n",
       "      <td>Black</td>\n",
       "      <td>Male</td>\n",
       "      <td>23</td>\n",
       "      <td>True</td>\n",
       "      <td>2024</td>\n",
       "      <td>9</td>\n",
       "      <td>Sunday</td>\n",
       "    </tr>\n",
       "    <tr>\n",
       "      <th>2</th>\n",
       "      <td>CMP0003</td>\n",
       "      <td>OFF0015</td>\n",
       "      <td>2023-10-14</td>\n",
       "      <td>Central</td>\n",
       "      <td>Excessive Force</td>\n",
       "      <td>Sustained</td>\n",
       "      <td>Other</td>\n",
       "      <td>Female</td>\n",
       "      <td>32</td>\n",
       "      <td>False</td>\n",
       "      <td>2023</td>\n",
       "      <td>10</td>\n",
       "      <td>Saturday</td>\n",
       "    </tr>\n",
       "    <tr>\n",
       "      <th>3</th>\n",
       "      <td>CMP0004</td>\n",
       "      <td>OFF0038</td>\n",
       "      <td>2023-07-27</td>\n",
       "      <td>East</td>\n",
       "      <td>Excessive Force</td>\n",
       "      <td>Sustained</td>\n",
       "      <td>Asian</td>\n",
       "      <td>Female</td>\n",
       "      <td>35</td>\n",
       "      <td>True</td>\n",
       "      <td>2023</td>\n",
       "      <td>7</td>\n",
       "      <td>Thursday</td>\n",
       "    </tr>\n",
       "    <tr>\n",
       "      <th>4</th>\n",
       "      <td>CMP0005</td>\n",
       "      <td>OFF0014</td>\n",
       "      <td>2025-01-04</td>\n",
       "      <td>East</td>\n",
       "      <td>Excessive Force</td>\n",
       "      <td>Pending</td>\n",
       "      <td>Asian</td>\n",
       "      <td>Male</td>\n",
       "      <td>40</td>\n",
       "      <td>False</td>\n",
       "      <td>2025</td>\n",
       "      <td>1</td>\n",
       "      <td>Saturday</td>\n",
       "    </tr>\n",
       "    <tr>\n",
       "      <th>...</th>\n",
       "      <td>...</td>\n",
       "      <td>...</td>\n",
       "      <td>...</td>\n",
       "      <td>...</td>\n",
       "      <td>...</td>\n",
       "      <td>...</td>\n",
       "      <td>...</td>\n",
       "      <td>...</td>\n",
       "      <td>...</td>\n",
       "      <td>...</td>\n",
       "      <td>...</td>\n",
       "      <td>...</td>\n",
       "      <td>...</td>\n",
       "    </tr>\n",
       "    <tr>\n",
       "      <th>95</th>\n",
       "      <td>CMP0096</td>\n",
       "      <td>OFF0007</td>\n",
       "      <td>2025-02-20</td>\n",
       "      <td>South</td>\n",
       "      <td>Neglect of Duty</td>\n",
       "      <td>Sustained</td>\n",
       "      <td>Hispanic</td>\n",
       "      <td>Male</td>\n",
       "      <td>37</td>\n",
       "      <td>True</td>\n",
       "      <td>2025</td>\n",
       "      <td>2</td>\n",
       "      <td>Thursday</td>\n",
       "    </tr>\n",
       "    <tr>\n",
       "      <th>96</th>\n",
       "      <td>CMP0097</td>\n",
       "      <td>OFF0046</td>\n",
       "      <td>2024-06-13</td>\n",
       "      <td>Central</td>\n",
       "      <td>Verbal Abuse</td>\n",
       "      <td>Unfounded</td>\n",
       "      <td>Black</td>\n",
       "      <td>Male</td>\n",
       "      <td>53</td>\n",
       "      <td>False</td>\n",
       "      <td>2024</td>\n",
       "      <td>6</td>\n",
       "      <td>Thursday</td>\n",
       "    </tr>\n",
       "    <tr>\n",
       "      <th>97</th>\n",
       "      <td>CMP0098</td>\n",
       "      <td>OFF0045</td>\n",
       "      <td>2024-08-17</td>\n",
       "      <td>South</td>\n",
       "      <td>Racial Profiling</td>\n",
       "      <td>Pending</td>\n",
       "      <td>Black</td>\n",
       "      <td>Non-binary</td>\n",
       "      <td>36</td>\n",
       "      <td>False</td>\n",
       "      <td>2024</td>\n",
       "      <td>8</td>\n",
       "      <td>Saturday</td>\n",
       "    </tr>\n",
       "    <tr>\n",
       "      <th>98</th>\n",
       "      <td>CMP0099</td>\n",
       "      <td>OFF0031</td>\n",
       "      <td>2023-09-27</td>\n",
       "      <td>West</td>\n",
       "      <td>Neglect of Duty</td>\n",
       "      <td>Sustained</td>\n",
       "      <td>Black</td>\n",
       "      <td>Female</td>\n",
       "      <td>48</td>\n",
       "      <td>True</td>\n",
       "      <td>2023</td>\n",
       "      <td>9</td>\n",
       "      <td>Wednesday</td>\n",
       "    </tr>\n",
       "    <tr>\n",
       "      <th>99</th>\n",
       "      <td>CMP0100</td>\n",
       "      <td>OFF0005</td>\n",
       "      <td>2024-09-24</td>\n",
       "      <td>West</td>\n",
       "      <td>Racial Profiling</td>\n",
       "      <td>Pending</td>\n",
       "      <td>Other</td>\n",
       "      <td>Non-binary</td>\n",
       "      <td>61</td>\n",
       "      <td>True</td>\n",
       "      <td>2024</td>\n",
       "      <td>9</td>\n",
       "      <td>Tuesday</td>\n",
       "    </tr>\n",
       "  </tbody>\n",
       "</table>\n",
       "<p>100 rows × 13 columns</p>\n",
       "</div>"
      ],
      "text/plain": [
       "   complaint_id officer_id date_received precinct    complaint_type  \\\n",
       "0       CMP0001    OFF0041    2024-06-08    North   Excessive Force   \n",
       "1       CMP0002    OFF0044    2024-09-15  Central   Excessive Force   \n",
       "2       CMP0003    OFF0015    2023-10-14  Central   Excessive Force   \n",
       "3       CMP0004    OFF0038    2023-07-27     East   Excessive Force   \n",
       "4       CMP0005    OFF0014    2025-01-04     East   Excessive Force   \n",
       "..          ...        ...           ...      ...               ...   \n",
       "95      CMP0096    OFF0007    2025-02-20    South   Neglect of Duty   \n",
       "96      CMP0097    OFF0046    2024-06-13  Central      Verbal Abuse   \n",
       "97      CMP0098    OFF0045    2024-08-17    South  Racial Profiling   \n",
       "98      CMP0099    OFF0031    2023-09-27     West   Neglect of Duty   \n",
       "99      CMP0100    OFF0005    2024-09-24     West  Racial Profiling   \n",
       "\n",
       "    resolution complainant_race complainant_gender  complainant_age  \\\n",
       "0    Unfounded            White               Male               26   \n",
       "1   Exonerated            Black               Male               23   \n",
       "2    Sustained            Other             Female               32   \n",
       "3    Sustained            Asian             Female               35   \n",
       "4      Pending            Asian               Male               40   \n",
       "..         ...              ...                ...              ...   \n",
       "95   Sustained         Hispanic               Male               37   \n",
       "96   Unfounded            Black               Male               53   \n",
       "97     Pending            Black         Non-binary               36   \n",
       "98   Sustained            Black             Female               48   \n",
       "99     Pending            Other         Non-binary               61   \n",
       "\n",
       "    use_of_force_involved  year  month day_of_week  \n",
       "0                    True  2024      6    Saturday  \n",
       "1                    True  2024      9      Sunday  \n",
       "2                   False  2023     10    Saturday  \n",
       "3                    True  2023      7    Thursday  \n",
       "4                   False  2025      1    Saturday  \n",
       "..                    ...   ...    ...         ...  \n",
       "95                   True  2025      2    Thursday  \n",
       "96                  False  2024      6    Thursday  \n",
       "97                  False  2024      8    Saturday  \n",
       "98                   True  2023      9   Wednesday  \n",
       "99                   True  2024      9     Tuesday  \n",
       "\n",
       "[100 rows x 13 columns]"
      ]
     },
     "execution_count": 7,
     "metadata": {},
     "output_type": "execute_result"
    }
   ],
   "source": [
    "# Extract year from date_received\n",
    "data['year'] = pd.to_datetime(data['date_received']).dt.year\n",
    "\n",
    "# Extract month from date_received\n",
    "data['month'] = pd.to_datetime(data['date_received']).dt.month\n",
    "\n",
    "# Extract year from date_received\n",
    "data['day_of_week'] = pd.to_datetime(data['date_received']).dt.day_name()\n",
    "data"
   ]
  },
  {
   "cell_type": "code",
   "execution_count": 8,
   "metadata": {},
   "outputs": [
    {
     "name": "stdout",
     "output_type": "stream",
     "text": [
      "In 2023 there were 38 complaints.\n",
      "In 2024 there were 46 complaints.\n",
      "In 2025 there were 16 complaints.\n"
     ]
    }
   ],
   "source": [
    "# complaints per year\n",
    "complaints_per_year = data.groupby('year')['complaint_id'].count()\n",
    "# print(\"Complaints per year:\")\n",
    "for year in complaints_per_year.index:\n",
    "    print(f\"In {year} there were {complaints_per_year[year]} complaints.\")"
   ]
  },
  {
   "cell_type": "code",
   "execution_count": 9,
   "metadata": {},
   "outputs": [
    {
     "data": {
      "text/plain": [
       "<AxesSubplot:title={'center':'Complaints per Year'}, xlabel='year'>"
      ]
     },
     "execution_count": 9,
     "metadata": {},
     "output_type": "execute_result"
    },
    {
     "data": {
      "image/png": "[encoded data removed]",
      "text/plain": [
       "<Figure size 640x480 with 1 Axes>"
      ]
     },
     "metadata": {},
     "output_type": "display_data"
    }
   ],
   "source": [
    "#complaints per year in bar form.\n",
    "pd.DataFrame(complaints_per_year).plot(kind='bar', title='Complaints per Year', rot=45)"
   ]
  },
  {
   "cell_type": "code",
   "execution_count": 10,
   "metadata": {},
   "outputs": [
    {
     "data": {
      "text/plain": [
       "[<matplotlib.axis.XTick at 0x21cdd1517c8>,\n",
       " <matplotlib.axis.XTick at 0x21cdd1561c8>,\n",
       " <matplotlib.axis.XTick at 0x21cdcfcd848>]"
      ]
     },
     "execution_count": 10,
     "metadata": {},
     "output_type": "execute_result"
    },
    {
     "data": {
      "image/png": "[encoded data removed]",
      "text/plain": [
       "<Figure size 640x480 with 1 Axes>"
      ]
     },
     "metadata": {},
     "output_type": "display_data"
    }
   ],
   "source": [
    "# Complaints per year in line form.\n",
    "pd.DataFrame(complaints_per_year).plot(title='Complaints per Year', rot=45).set_xticks(complaints_per_year.index)"
   ]
  },
  {
   "cell_type": "code",
   "execution_count": 11,
   "metadata": {},
   "outputs": [
    {
     "data": {
      "text/plain": [
       "Jan     8\n",
       "Feb    12\n",
       "Mar     3\n",
       "Apr     7\n",
       "May     8\n",
       "Jun     9\n",
       "Jul    11\n",
       "Aug    13\n",
       "Sep    12\n",
       "Oct     3\n",
       "Nov     7\n",
       "Dec     7\n",
       "Name: complaint_id, dtype: int64"
      ]
     },
     "execution_count": 11,
     "metadata": {},
     "output_type": "execute_result"
    }
   ],
   "source": [
    "# Complaints per month.\n",
    "complaints_per_month = data.groupby('month')['complaint_id'].count()\n",
    "complaints_per_month.index = ['Jan', 'Feb', 'Mar', 'Apr', 'May', 'Jun', 'Jul', 'Aug', 'Sep', 'Oct', 'Nov', 'Dec']\n",
    "complaints_per_month"
   ]
  },
  {
   "cell_type": "code",
   "execution_count": 12,
   "metadata": {},
   "outputs": [
    {
     "data": {
      "text/plain": [
       "<AxesSubplot:>"
      ]
     },
     "execution_count": 12,
     "metadata": {},
     "output_type": "execute_result"
    },
    {
     "data": {
      "image/png": "[encoded data removed]",
      "text/plain": [
       "<Figure size 640x480 with 1 Axes>"
      ]
     },
     "metadata": {},
     "output_type": "display_data"
    }
   ],
   "source": [
    "# Complaints per month in bar form.\n",
    "sns.barplot(x=complaints_per_month.index, y=complaints_per_month.values)\n"
   ]
  },
  {
   "cell_type": "code",
   "execution_count": 13,
   "metadata": {},
   "outputs": [
    {
     "data": {
      "text/plain": [
       "<AxesSubplot:>"
      ]
     },
     "execution_count": 13,
     "metadata": {},
     "output_type": "execute_result"
    },
    {
     "data": {
      "image/png": "[encoded data removed]",
      "text/plain": [
       "<Figure size 640x480 with 1 Axes>"
      ]
     },
     "metadata": {},
     "output_type": "display_data"
    }
   ],
   "source": [
    "# complaints per month in line form.\n",
    "sns.lineplot(x=complaints_per_month.index, y=complaints_per_month.values)\n"
   ]
  },
  {
   "cell_type": "code",
   "execution_count": 24,
   "metadata": {},
   "outputs": [
    {
     "data": {
      "text/plain": [
       "Mon    13\n",
       "Tue    18\n",
       "Wed    21\n",
       "Thu    13\n",
       "Fri    12\n",
       "Sat    15\n",
       "Sun     8\n",
       "Name: complaint_id, dtype: int64"
      ]
     },
     "execution_count": 24,
     "metadata": {},
     "output_type": "execute_result"
    }
   ],
   "source": [
    "# Complaint per day of the week.\n",
    "complaints_per_day_of_week = data.groupby('day_of_week')['complaint_id'].count()\n",
    "complaints_per_day_of_week.index = ['Mon', 'Tue', 'Wed', 'Thu', 'Fri', 'Sat', 'Sun']\n",
    "complaints_per_day_of_week"
   ]
  },
  {
   "cell_type": "code",
   "execution_count": 23,
   "metadata": {},
   "outputs": [
    {
     "data": {
      "text/plain": [
       "<AxesSubplot:>"
      ]
     },
     "execution_count": 23,
     "metadata": {},
     "output_type": "execute_result"
    },
    {
     "data": {
      "image/png": "[encoded data removed]",
      "text/plain": [
       "<Figure size 640x480 with 1 Axes>"
      ]
     },
     "metadata": {},
     "output_type": "display_data"
    }
   ],
   "source": [
    "#  Complaints per day of week in bar form.\n",
    "sns.barplot(x=complaints_per_day_of_week.index, \n",
    "            y=complaints_per_day_of_week.values,\n",
    "            )"
   ]
  },
  {
   "cell_type": "code",
   "execution_count": 25,
   "metadata": {},
   "outputs": [
    {
     "data": {
      "text/plain": [
       "<AxesSubplot:>"
      ]
     },
     "execution_count": 25,
     "metadata": {},
     "output_type": "execute_result"
    },
    {
     "data": {
      "image/png": "[encoded data removed]",
      "text/plain": [
       "<Figure size 640x480 with 1 Axes>"
      ]
     },
     "metadata": {},
     "output_type": "display_data"
    }
   ],
   "source": [
    "#  Complaints per day of week in line form.\n",
    "sns.lineplot(x=complaints_per_day_of_week.index, \n",
    "             y=complaints_per_day_of_week.values,\n",
    "             )"
   ]
  },
  {
   "cell_type": "code",
   "execution_count": 38,
   "metadata": {},
   "outputs": [
    {
     "data": {
      "text/plain": [
       "precinct\n",
       "Central    20\n",
       "East       20\n",
       "North      18\n",
       "South      21\n",
       "West       21\n",
       "Name: complaint_id, dtype: int64"
      ]
     },
     "execution_count": 38,
     "metadata": {},
     "output_type": "execute_result"
    }
   ],
   "source": [
    "#  Number of complaints per precinct.\n",
    "complaints_per_precinct = data.groupby('precinct')['complaint_id'].count()\n",
    "complaints_per_precinct"
   ]
  },
  {
   "cell_type": "code",
   "execution_count": 54,
   "metadata": {},
   "outputs": [
    {
     "data": {
      "text/plain": [
       "Text(0, 0.5, '')"
      ]
     },
     "execution_count": 54,
     "metadata": {},
     "output_type": "execute_result"
    },
    {
     "data": {
      "image/png": "[encoded data removed]",
      "text/plain": [
       "<Figure size 500x500 with 1 Axes>"
      ]
     },
     "metadata": {},
     "output_type": "display_data"
    }
   ],
   "source": [
    "# Number of complaints per precinct in pie chart form.\n",
    "complaints_per_precinct.plot.pie(title='Complaints per Precinct',\n",
    "                                autopct='%.0f%%',\n",
    "                                figsize=(5, 5), \n",
    "                                legend=False,\n",
    "                                \n",
    "                                ).set_ylabel('')"
   ]
  },
  {
   "cell_type": "code",
   "execution_count": 51,
   "metadata": {},
   "outputs": [
    {
     "data": {
      "text/plain": [
       "precinct\n",
       "Central    20\n",
       "East       20\n",
       "North      18\n",
       "South      21\n",
       "West       21\n",
       "Name: complaint_id, dtype: int64"
      ]
     },
     "execution_count": 51,
     "metadata": {},
     "output_type": "execute_result"
    }
   ],
   "source": [
    "complaints_per_precinct"
   ]
  },
  {
   "cell_type": "code",
   "execution_count": 42,
   "metadata": {},
   "outputs": [
    {
     "data": {
      "text/plain": [
       "complaint_type\n",
       "Excessive Force     28\n",
       "Neglect of Duty     21\n",
       "Racial Profiling    31\n",
       "Verbal Abuse        20\n",
       "Name: complaint_id, dtype: int64"
      ]
     },
     "execution_count": 42,
     "metadata": {},
     "output_type": "execute_result"
    }
   ],
   "source": [
    "#  Number of complaints per type of complaint.\n",
    "complaints_per_type = data.groupby('complaint_type')['complaint_id'].count()\n",
    "complaints_per_type"
   ]
  },
  {
   "cell_type": "code",
   "execution_count": 61,
   "metadata": {},
   "outputs": [
    {
     "data": {
      "text/plain": [
       "Text(0, 0.5, '')"
      ]
     },
     "execution_count": 61,
     "metadata": {},
     "output_type": "execute_result"
    },
    {
     "data": {
      "image/png": "[encoded data removed]",
      "text/plain": [
       "<Figure size 500x500 with 1 Axes>"
      ]
     },
     "metadata": {},
     "output_type": "display_data"
    }
   ],
   "source": [
    "# Number of complaints per type of complaint in pie chart form.\n",
    "complaints_per_type.plot.pie(title='Complaints per Type',\n",
    "                                autopct='%.0f%%',\n",
    "                                figsize=(5, 5), \n",
    "                                legend=False,\n",
    "                                \n",
    "                                ).set_ylabel('')"
   ]
  },
  {
   "cell_type": "code",
   "execution_count": 77,
   "metadata": {},
   "outputs": [
    {
     "data": {
      "text/plain": [
       "complaint_type    resolution\n",
       "Excessive Force   Unfounded      8\n",
       "                  Exonerated     7\n",
       "                  Sustained      7\n",
       "                  Pending        6\n",
       "Neglect of Duty   Exonerated     9\n",
       "                  Sustained      7\n",
       "                  Unfounded      3\n",
       "                  Pending        2\n",
       "Racial Profiling  Pending       11\n",
       "                  Sustained      8\n",
       "                  Exonerated     6\n",
       "                  Unfounded      6\n",
       "Verbal Abuse      Unfounded      8\n",
       "                  Exonerated     5\n",
       "                  Pending        5\n",
       "                  Sustained      2\n",
       "Name: resolution, dtype: int64"
      ]
     },
     "execution_count": 77,
     "metadata": {},
     "output_type": "execute_result"
    }
   ],
   "source": [
    "# show resolutions per complaints type.\n",
    "resolutions_per_type = data.groupby('complaint_type')['resolution'].value_counts()\n",
    "resolutions_per_type"
   ]
  },
  {
   "cell_type": "code",
   "execution_count": 85,
   "metadata": {},
   "outputs": [
    {
     "data": {
      "text/plain": [
       "precinct  complainant_race\n",
       "Central   Asian               7\n",
       "          Black               5\n",
       "          Other               4\n",
       "          White               3\n",
       "          Hispanic            1\n",
       "East      Hispanic            6\n",
       "          Black               5\n",
       "          Other               5\n",
       "          Asian               3\n",
       "          White               1\n",
       "North     White               8\n",
       "          Asian               3\n",
       "          Black               3\n",
       "          Hispanic            3\n",
       "          Other               1\n",
       "South     Asian               6\n",
       "          Hispanic            4\n",
       "          Other               4\n",
       "          White               4\n",
       "          Black               3\n",
       "West      Asian               6\n",
       "          White               6\n",
       "          Other               4\n",
       "          Black               3\n",
       "          Hispanic            2\n",
       "Name: complainant_race, dtype: int64"
      ]
     },
     "execution_count": 85,
     "metadata": {},
     "output_type": "execute_result"
    }
   ],
   "source": [
    "# Show complaintants race by preinct.\n",
    "complainants_per_precinct = data.groupby('precinct')['complainant_race'].value_counts()\n",
    "complainants_per_precinct"
   ]
  },
  {
   "cell_type": "code",
   "execution_count": 146,
   "metadata": {},
   "outputs": [
    {
     "name": "stdout",
     "output_type": "stream",
     "text": [
      "Central\n",
      "East\n",
      "North\n",
      "South\n",
      "West\n"
     ]
    }
   ],
   "source": [
    "precincts = data['precinct'].value_counts().keys().sort_values()\n",
    "for p in precincts:\n",
    "    print(p)"
   ]
  },
  {
   "cell_type": "code",
   "execution_count": 158,
   "metadata": {},
   "outputs": [
    {
     "data": {
      "text/plain": [
       "array([7, 5, 5, 3], dtype=int64)"
      ]
     },
     "execution_count": 158,
     "metadata": {},
     "output_type": "execute_result"
    }
   ],
   "source": [
    "data[data['precinct'] == precincts[0]]['complaint_type'].value_counts().values"
   ]
  },
  {
   "cell_type": "code",
   "execution_count": 159,
   "metadata": {},
   "outputs": [
    {
     "data": {
      "text/plain": [
       "Index(['Central', 'East', 'North', 'South', 'West'], dtype='object')"
      ]
     },
     "execution_count": 159,
     "metadata": {},
     "output_type": "execute_result"
    }
   ],
   "source": [
    "precincts = data['precinct'].value_counts().keys().sort_values()\n",
    "precincts"
   ]
  },
  {
   "cell_type": "code",
   "execution_count": 160,
   "metadata": {},
   "outputs": [
    {
     "data": {
      "text/plain": [
       "4"
      ]
     },
     "execution_count": 160,
     "metadata": {},
     "output_type": "execute_result"
    }
   ],
   "source": [
    "precinct_count = data[data['precinct'] == precincts[0]]['complaint_type'].value_counts().count()\n",
    "precinct_count"
   ]
  },
  {
   "cell_type": "code",
   "execution_count": 164,
   "metadata": {},
   "outputs": [
    {
     "data": {
      "text/plain": [
       "Index(['Racial Profiling', 'Excessive Force', 'Neglect of Duty',\n",
       "       'Verbal Abuse'],\n",
       "      dtype='object')"
      ]
     },
     "execution_count": 164,
     "metadata": {},
     "output_type": "execute_result"
    }
   ],
   "source": [
    "complaint_types = data['complaint_type'].value_counts().keys()\n",
    "complaint_types"
   ]
  },
  {
   "cell_type": "code",
   "execution_count": null,
   "metadata": {},
   "outputs": [
    {
     "name": "stdout",
     "output_type": "stream",
     "text": [
      "Central\n",
      "5\n",
      "5\n",
      "5\n",
      "5\n",
      "East\n",
      "5\n",
      "5\n",
      "5\n",
      "5\n",
      "North\n",
      "5\n",
      "5\n",
      "5\n",
      "5\n",
      "South\n",
      "5\n",
      "5\n",
      "5\n",
      "5\n",
      "West\n",
      "5\n",
      "5\n",
      "5\n",
      "5\n"
     ]
    }
   ],
   "source": [
    "for p,c in zip(precincts, complaint_types):\n",
    "    print(p)\n",
    "    print(c)\n",
    "    complaint = data[data['precinct'] == p]\n",
    "    complaint = data[data['complaint_type'] == c].head()['complaint_id'].count()\n",
    "    print(complaint)\n",
    "        "
   ]
  },
  {
   "cell_type": "code",
   "execution_count": 182,
   "metadata": {},
   "outputs": [
    {
     "data": {
      "text/plain": [
       "28"
      ]
     },
     "execution_count": 182,
     "metadata": {},
     "output_type": "execute_result"
    }
   ],
   "source": [
    "data[data['complaint_type'] == \"Excessive Force\"]['complaint_id'].count()\n",
    "# data[data['complaint_type'] == c ]['complaint_id'].count()"
   ]
  },
  {
   "cell_type": "code",
   "execution_count": null,
   "metadata": {},
   "outputs": [],
   "source": []
  }
 ],
 "metadata": {
  "kernelspec": {
   "display_name": "dev",
   "language": "python",
   "name": "python3"
  },
  "language_info": {
   "codemirror_mode": {
    "name": "ipython",
    "version": 3
   },
   "file_extension": ".py",
   "mimetype": "text/x-python",
   "name": "python",
   "nbconvert_exporter": "python",
   "pygments_lexer": "ipython3",
   "version": "3.7.16"
  }
 },
 "nbformat": 4,
 "nbformat_minor": 2
}
